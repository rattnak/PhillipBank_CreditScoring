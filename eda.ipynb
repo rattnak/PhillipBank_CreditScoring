{
 "cells": [
  {
   "cell_type": "markdown",
   "id": "dde680db",
   "metadata": {},
   "source": [
    "### Import Libraries"
   ]
  },
  {
   "cell_type": "code",
   "execution_count": 59,
   "id": "cf040833-af68-453c-98ac-98354614a9df",
   "metadata": {},
   "outputs": [],
   "source": [
    "import pandas as pd\n",
    "from sklearn.preprocessing import LabelEncoder, OrdinalEncoder, StandardScaler\n",
    "from scipy import stats\n",
    "import numpy as np"
   ]
  },
  {
   "cell_type": "code",
   "execution_count": 60,
   "id": "058456c5",
   "metadata": {},
   "outputs": [
    {
     "data": {
      "text/plain": [
       "ApplicationDate                object\n",
       "Age                             int64\n",
       "AnnualIncome                    int64\n",
       "CreditScore                     int64\n",
       "EmploymentStatus               object\n",
       "EducationLevel                 object\n",
       "Experience                      int64\n",
       "LoanAmount                      int64\n",
       "LoanDuration                    int64\n",
       "MaritalStatus                  object\n",
       "NumberOfDependents              int64\n",
       "HomeOwnershipStatus            object\n",
       "MonthlyDebtPayments             int64\n",
       "CreditCardUtilizationRate     float64\n",
       "NumberOfOpenCreditLines         int64\n",
       "NumberOfCreditInquiries         int64\n",
       "DebtToIncomeRatio             float64\n",
       "BankruptcyHistory               int64\n",
       "LoanPurpose                    object\n",
       "PreviousLoanDefaults            int64\n",
       "PaymentHistory                  int64\n",
       "LengthOfCreditHistory           int64\n",
       "SavingsAccountBalance           int64\n",
       "CheckingAccountBalance          int64\n",
       "TotalAssets                     int64\n",
       "TotalLiabilities                int64\n",
       "MonthlyIncome                 float64\n",
       "UtilityBillsPaymentHistory    float64\n",
       "JobTenure                       int64\n",
       "NetWorth                        int64\n",
       "BaseInterestRate              float64\n",
       "InterestRate                  float64\n",
       "MonthlyLoanPayment            float64\n",
       "TotalDebtToIncomeRatio        float64\n",
       "LoanApproved                    int64\n",
       "RiskScore                     float64\n",
       "dtype: object"
      ]
     },
     "execution_count": 60,
     "metadata": {},
     "output_type": "execute_result"
    }
   ],
   "source": [
    "# Load the CSV file\n",
    "data = pd.read_csv(\"philip.csv\")\n",
    "# check data type\n",
    "data.dtypes"
   ]
  },
  {
   "cell_type": "code",
   "execution_count": 61,
   "id": "4e56bd16-091f-4824-bcbf-1b28b5c29f37",
   "metadata": {},
   "outputs": [],
   "source": [
    "# Remove rows with missing values\n",
    "data.dropna(inplace=True)\n",
    "# Remove duplicate rows\n",
    "data.drop_duplicates(inplace=True)\n",
    "# Strip extra whitespace from string columns\n",
    "for column in data.select_dtypes(include=['object']).columns:\n",
    "    data[column] = data[column].str.strip()"
   ]
  },
  {
   "cell_type": "code",
   "execution_count": 62,
   "id": "17a45ee0-716b-416a-a854-a27f40fa5f6a",
   "metadata": {},
   "outputs": [
    {
     "name": "stdout",
     "output_type": "stream",
     "text": [
      "Unique values in 'HomeOwnershipStatus': ['Own' 'Mortgage' 'Rent' 'Other']\n",
      "Unique values in 'EmploymentStatus': ['Employed' 'Self-Employed' 'Unemployed']\n",
      "Unique values in 'EducationLevel': ['Master' 'Associate' 'Bachelor' 'High School' 'Doctorate']\n",
      "Unique values in 'MaritalStatus': ['Married' 'Single' 'Divorced' 'Widowed']\n"
     ]
    }
   ],
   "source": [
    "# Check all the text data in Columns that we will apply Ordinal Encoder\n",
    "ordinal_cols = [\"HomeOwnershipStatus\", \"EmploymentStatus\", \"EducationLevel\", \"MaritalStatus\"]\n",
    "# Get unique values for each specified column\n",
    "for column in ordinal_cols:\n",
    "    unique_values = data[column].unique()\n",
    "    print(f\"Unique values in '{column}': {unique_values}\")"
   ]
  },
  {
   "cell_type": "markdown",
   "id": "f07b45f0-c9e1-405c-bff1-1480239ffd30",
   "metadata": {},
   "source": [
    "Based on general societal and financial perceptions, theses are the ranking for each category:\n",
    "* HomeOwnershipStatus: Own > Mortgage > Rent > Other\n",
    "* EmploymentStatus: Employed > Self-Employed > Unemployed\n",
    "* EducationLevel: Doctorate > Master > Bachelor > Associate > High School\n",
    "* MaritalStatus: Married > Widowed > Divorced > Single"
   ]
  },
  {
   "cell_type": "code",
   "execution_count": 68,
   "id": "3956aa1d-8cfb-4262-8aa5-0a54f179cd76",
   "metadata": {},
   "outputs": [
    {
     "name": "stdout",
     "output_type": "stream",
     "text": [
      "Data types before encoding:\n",
      "HomeOwnershipStatus    category\n",
      "EmploymentStatus       category\n",
      "EducationLevel         category\n",
      "MaritalStatus          category\n",
      "dtype: object\n",
      "Error during encoding: invalid literal for int() with base 10: 'Own'\n",
      "Check the data in the following columns:\n",
      "HomeOwnershipStatus: [0, 1, 2, 3]\n",
      "Categories (4, int64): [0, 1, 2, 3]\n",
      "EmploymentStatus: [0, 1, 2]\n",
      "Categories (3, int64): [0, 1, 2]\n",
      "EducationLevel: [1, 3, 2, 4, 0]\n",
      "Categories (5, int64): [0, 1, 2, 3, 4]\n",
      "MaritalStatus: [0, 3, 2, 1]\n",
      "Categories (4, int64): [0, 1, 2, 3]\n",
      "Summary Statistics for Cleaned Data:\n",
      "       BankruptcyHistory    LoanAmount  NumberOfDependents  \\\n",
      "count       18624.000000  18624.000000        18624.000000   \n",
      "mean            0.053157     -0.063502            0.000845   \n",
      "std             0.224353      0.856299            0.998881   \n",
      "min             0.000000     -1.579559           -1.094504   \n",
      "25%             0.000000     -0.700608           -1.094504   \n",
      "50%             0.000000     -0.235931           -0.373154   \n",
      "75%             0.000000      0.397211            0.348195   \n",
      "max             1.000000      2.999991            2.512244   \n",
      "\n",
      "       MonthlyDebtPayments  DebtToIncomeRatio  NumberOfCreditInquiries  \\\n",
      "count         18624.000000       18624.000000             18624.000000   \n",
      "mean             -0.064701          -0.013582                -0.056996   \n",
      "std               0.861914           0.980077                 0.904347   \n",
      "min              -1.681040          -1.770952                -1.006140   \n",
      "25%              -0.708073          -0.780651                -1.006140   \n",
      "50%              -0.234064          -0.142932                 0.007093   \n",
      "75%               0.402107           0.639594                 0.007093   \n",
      "max               2.988368           2.998060                 2.033558   \n",
      "\n",
      "       LengthOfCreditHistory  CheckingAccountBalance  \n",
      "count           18624.000000            18624.000000  \n",
      "mean                0.003228               -0.095181  \n",
      "std                 0.998976                0.664130  \n",
      "min                -1.667271               -0.783208  \n",
      "25%                -0.831085               -0.551727  \n",
      "50%                 0.005101               -0.309780  \n",
      "75%                 0.841287                0.118667  \n",
      "max                 1.677473                2.997095  \n",
      "Data fully processed and saved to 'philip_fully_processed.csv'\n"
     ]
    }
   ],
   "source": [
    "# Columns to keep\n",
    "columns_to_keep = [\n",
    "    \"BankruptcyHistory\", \"HomeOwnershipStatus\", \n",
    "    \"EmploymentStatus\", \"EducationLevel\", \"MaritalStatus\",\n",
    "    \"LoanAmount\", \"NumberOfDependents\", \"MonthlyDebtPayments\", \n",
    "    \"DebtToIncomeRatio\", \"NumberOfCreditInquiries\", \"LengthOfCreditHistory\", \n",
    "    \"CheckingAccountBalance\"\n",
    "]\n",
    "\n",
    "# Create an ordinal ranking for each column\n",
    "ordinal_rankings = {\n",
    "    \"HomeOwnershipStatus\": [\"Own\", \"Mortgage\", \"Rent\", \"Other\"],\n",
    "    \"EmploymentStatus\": [\"Employed\", \"Self-Employed\", \"Unemployed\"],\n",
    "    \"EducationLevel\": [\"Doctorate\", \"Master\", \"Bachelor\", \"Associate\", \"High School\"],\n",
    "    \"MaritalStatus\": [\"Married\", \"Widowed\", \"Divorced\", \"Single\"]\n",
    "}\n",
    "\n",
    "# Check for NaN values in the ordinal columns\n",
    "for col in ordinal_rankings.keys():\n",
    "    if data[col].isnull().any():\n",
    "        print(f\"Warning: NaN values found in column '{col}'. Filling NaNs with 'Unknown'.\")\n",
    "        data[col].fillna('Unknown', inplace=True)  # Replace NaNs with a placeholder\n",
    "\n",
    "# Ensure that the categorical columns are of type 'category'\n",
    "for col in ordinal_rankings.keys():\n",
    "    data[col] = data[col].astype('category')\n",
    "\n",
    "# Verify the data types before encoding\n",
    "print(\"Data types before encoding:\")\n",
    "print(data[ordinal_rankings.keys()].dtypes)\n",
    "\n",
    "# Ordinal Encoding on specified columns\n",
    "ordinal_cols = list(ordinal_rankings.keys())\n",
    "ordinal_encoder = OrdinalEncoder(categories=list(ordinal_rankings.values()))\n",
    "\n",
    "try:\n",
    "    # Fit and transform the data, ensuring the output is an integer type\n",
    "    encoded_values = ordinal_encoder.fit_transform(data[ordinal_cols])\n",
    "    data[ordinal_cols] = encoded_values.astype(np.int64)  # Ensure the output is integer\n",
    "except ValueError as e:\n",
    "    print(f\"Error during encoding: {e}\")\n",
    "    print(\"Check the data in the following columns:\")\n",
    "    for col in ordinal_cols:\n",
    "        print(f\"{col}: {data[col].unique()}\")  # Print unique values in each column\n",
    "\n",
    "# Select relevant columns and create a copy to avoid SettingWithCopyWarning\n",
    "cleaned_data = data[columns_to_keep].copy()  # Use .copy() to avoid SettingWithCopyWarning\n",
    "\n",
    "# Step 1: Scaling the numerical columns\n",
    "scaler = StandardScaler()\n",
    "numeric_cols = [\"LoanAmount\", \"NumberOfDependents\", \"MonthlyDebtPayments\", \n",
    "                \"DebtToIncomeRatio\", \"NumberOfCreditInquiries\", \"LengthOfCreditHistory\", \n",
    "                \"CheckingAccountBalance\"]\n",
    "\n",
    "cleaned_data.loc[:, numeric_cols] = scaler.fit_transform(cleaned_data[numeric_cols])  # Use .loc to avoid warning\n",
    "\n",
    "# Step 2: Removing outliers (using z-score threshold of 3)\n",
    "cleaned_data = cleaned_data[(np.abs(stats.zscore(cleaned_data[numeric_cols])) < 3).all(axis=1)]\n",
    "\n",
    "# Step 3: Basic Analysis - Print summary statistics\n",
    "print(\"Summary Statistics for Cleaned Data:\")\n",
    "print(cleaned_data.describe())\n",
    "\n",
    "# Save the processed data to a new CSV\n",
    "cleaned_data.to_csv(\"philip_fully_processed.csv\", index=False)\n",
    "print(\"Data fully processed and saved to 'philip_fully_processed.csv'\")"
   ]
  },
  {
   "cell_type": "code",
   "execution_count": null,
   "id": "77f4cadc-0c0a-4e56-aac9-51276a9f7d97",
   "metadata": {},
   "outputs": [],
   "source": []
  }
 ],
 "metadata": {
  "kernelspec": {
   "display_name": "Python 3 (ipykernel)",
   "language": "python",
   "name": "python3"
  },
  "language_info": {
   "codemirror_mode": {
    "name": "ipython",
    "version": 3
   },
   "file_extension": ".py",
   "mimetype": "text/x-python",
   "name": "python",
   "nbconvert_exporter": "python",
   "pygments_lexer": "ipython3",
   "version": "3.10.6"
  }
 },
 "nbformat": 4,
 "nbformat_minor": 5
}
